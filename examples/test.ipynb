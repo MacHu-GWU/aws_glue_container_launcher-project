{
 "cells": [
  {
   "cell_type": "code",
   "execution_count": 1,
   "id": "399fbc3c-a758-437e-9f4c-19945e94f8e3",
   "metadata": {
    "ExecuteTime": {
     "end_time": "2023-08-01T18:24:51.119472Z",
     "start_time": "2023-08-01T18:24:50.867565Z"
    }
   },
   "outputs": [
    {
     "name": "stdout",
     "output_type": "stream",
     "text": [
      "Starting Spark application\n"
     ]
    },
    {
     "data": {
      "text/html": [
       "<table>\n",
       "<tr><th>ID</th><th>YARN Application ID</th><th>Kind</th><th>State</th><th>Spark UI</th><th>Driver log</th><th>User</th><th>Current session?</th></tr><tr><td>0</td><td>None</td><td>pyspark</td><td>idle</td><td></td><td></td><td>None</td><td>✔</td></tr></table>"
      ],
      "text/plain": [
       "<IPython.core.display.HTML object>"
      ]
     },
     "metadata": {},
     "output_type": "display_data"
    },
    {
     "data": {
      "application/vnd.jupyter.widget-view+json": {
       "model_id": "",
       "version_major": 2,
       "version_minor": 0
      },
      "text/plain": [
       "FloatProgress(value=0.0, bar_style='info', description='Progress:', layout=Layout(height='25px', width='50%'),…"
      ]
     },
     "metadata": {},
     "output_type": "display_data"
    },
    {
     "name": "stdout",
     "output_type": "stream",
     "text": [
      "SparkSession available as 'spark'.\n"
     ]
    },
    {
     "data": {
      "application/vnd.jupyter.widget-view+json": {
       "model_id": "",
       "version_major": 2,
       "version_minor": 0
      },
      "text/plain": [
       "FloatProgress(value=0.0, bar_style='info', description='Progress:', layout=Layout(height='25px', width='50%'),…"
      ]
     },
     "metadata": {},
     "output_type": "display_data"
    },
    {
     "name": "stdout",
     "output_type": "stream",
     "text": [
      "/home/glue_user/spark/python/pyspark/sql/context.py:112: FutureWarning: Deprecated in 3.0.0. Use SparkSession.builder.getOrCreate() instead.\n",
      "  warnings.warn("
     ]
    }
   ],
   "source": [
    "import typing as T\n",
    "import os\n",
    "import sys\n",
    "from pathlib import Path\n",
    "\n",
    "import boto3\n",
    "\n",
    "from pyspark.sql import functions as F\n",
    "from pyspark.sql import types as TP\n",
    "from pyspark.sql import DataFrame\n",
    "from pyspark.context import SparkContext\n",
    "\n",
    "from awsglue.context import GlueContext\n",
    "from awsglue.utils import getResolvedOptions\n",
    "from awsglue.job import Job\n",
    "\n",
    "spark_ctx = SparkContext.getOrCreate()\n",
    "glue_ctx = GlueContext(spark_ctx)\n",
    "spark_ses = glue_ctx.spark_session"
   ]
  },
  {
   "cell_type": "code",
   "execution_count": 6,
   "id": "8cd6341c-1497-4070-b26b-72f7dbe476ad",
   "metadata": {
    "ExecuteTime": {
     "end_time": "2023-08-01T18:09:42.920608Z",
     "start_time": "2023-08-01T18:09:42.887624Z"
    }
   },
   "outputs": [
    {
     "data": {
      "application/vnd.jupyter.widget-view+json": {
       "model_id": "",
       "version_major": 2,
       "version_minor": 0
      },
      "text/plain": [
       "FloatProgress(value=0.0, bar_style='info', description='Progress:', layout=Layout(height='25px', width='50%'),…"
      ]
     },
     "metadata": {},
     "output_type": "display_data"
    }
   ],
   "source": [
    "sys.path.append(str(Path.cwd().joinpath(\"jupyter_workspace\")))"
   ]
  },
  {
   "cell_type": "code",
   "execution_count": 8,
   "id": "98d8e8d1-c9c6-4cfd-9acf-49fa7251149a",
   "metadata": {},
   "outputs": [
    {
     "data": {
      "application/vnd.jupyter.widget-view+json": {
       "model_id": "",
       "version_major": 2,
       "version_minor": 0
      },
      "text/plain": [
       "FloatProgress(value=0.0, bar_style='info', description='Progress:', layout=Layout(height='25px', width='50%'),…"
      ]
     },
     "metadata": {},
     "output_type": "display_data"
    },
    {
     "name": "stdout",
     "output_type": "stream",
     "text": [
      "aws_glue_container_launcher = 0.1.1"
     ]
    }
   ],
   "source": [
    "import aws_glue_container_launcher\n",
    "\n",
    "print(f\"aws_glue_container_launcher = {aws_glue_container_launcher.__version__}\")"
   ]
  },
  {
   "cell_type": "code",
   "execution_count": 2,
   "id": "1a625cd4-0d5d-4c28-9b1b-74af3bb038f1",
   "metadata": {
    "ExecuteTime": {
     "end_time": "2023-08-01T18:22:39.064892Z",
     "start_time": "2023-08-01T18:22:38.297546Z"
    }
   },
   "outputs": [
    {
     "data": {
      "application/vnd.jupyter.widget-view+json": {
       "model_id": "",
       "version_major": 2,
       "version_minor": 0
      },
      "text/plain": [
       "FloatProgress(value=0.0, bar_style='info', description='Progress:', layout=Layout(height='25px', width='50%'),…"
      ]
     },
     "metadata": {},
     "output_type": "display_data"
    },
    {
     "name": "stdout",
     "output_type": "stream",
     "text": [
      "+---+-----+\n",
      "| id| name|\n",
      "+---+-----+\n",
      "|  1|alice|\n",
      "|  2|  bob|\n",
      "+---+-----+"
     ]
    }
   ],
   "source": [
    "pdf = spark_ses.createDataFrame(\n",
    "    [\n",
    "        (1, \"alice\"),\n",
    "        (2, \"bob\"),\n",
    "    ],\n",
    "    (\"id\", \"name\"),\n",
    ")\n",
    "pdf.show()"
   ]
  },
  {
   "cell_type": "code",
   "execution_count": null,
   "id": "e5eac365-ff70-4d54-b8b7-a5362c5b88b2",
   "metadata": {},
   "outputs": [],
   "source": []
  }
 ],
 "metadata": {
  "kernelspec": {
   "display_name": "PySpark",
   "language": "python",
   "name": "pysparkkernel"
  },
  "language_info": {
   "codemirror_mode": {
    "name": "python",
    "version": 3
   },
   "file_extension": ".py",
   "mimetype": "text/x-python",
   "name": "pyspark",
   "pygments_lexer": "python3"
  }
 },
 "nbformat": 4,
 "nbformat_minor": 5
}
